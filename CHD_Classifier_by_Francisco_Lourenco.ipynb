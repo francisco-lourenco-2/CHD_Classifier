{
 "cells": [
  {
   "cell_type": "code",
   "execution_count": 1,
   "id": "e7a98f73",
   "metadata": {
    "scrolled": true
   },
   "outputs": [
    {
     "name": "stdout",
     "output_type": "stream",
     "text": [
      "Jupyter environment detected. Enabling Open3D WebVisualizer.\n",
      "[Open3D INFO] WebRTC GUI backend enabled.\n",
      "[Open3D INFO] WebRTCWindowSystem: HTTP handshake server disabled.\n"
     ]
    }
   ],
   "source": [
    "import numpy as np\n",
    "import nibabel as nib\n",
    "from glob import glob\n",
    "import matplotlib.pyplot as plt\n",
    "import torch\n",
    "from torch import nn\n",
    "from torch.utils.data import DataLoader\n",
    "from torch.utils.data import Dataset\n",
    "from torchvision import datasets\n",
    "from models.detr import DETR, LossSegmentation\n",
    "from models.segmentation import DETRsegm, PostProcessPanoptic\n",
    "from models.matcher import HungarianMatcher\n",
    "from hubconf import detr_resnet101_panoptic, detr_resnet3d_panoptic\n",
    "from torchvision.transforms import Resize\n",
    "from util.misc import get_world_size\n",
    "import open3d as o3d\n",
    "import torch.optim as optim\n",
    "import pkbar"
   ]
  },
  {
   "cell_type": "code",
   "execution_count": 2,
   "id": "34ef504f",
   "metadata": {},
   "outputs": [],
   "source": [
    "nib.imageglobals.logger.level = 51"
   ]
  },
  {
   "cell_type": "code",
   "execution_count": 3,
   "id": "5dc7d8b8",
   "metadata": {},
   "outputs": [],
   "source": [
    "def sort_func(path):\n",
    "    path_id = int(path.split('/')[-1].split('_')[1])\n",
    "    return path_id"
   ]
  },
  {
   "cell_type": "code",
   "execution_count": 4,
   "id": "d1a4badb",
   "metadata": {},
   "outputs": [],
   "source": [
    "def show_image_and_label(image, target):\n",
    "    fig, axs = plt.subplots(nrows=1,ncols=2, squeeze=False,figsize=(12, 12))\n",
    "    axs[0, 0].imshow(image)\n",
    "    axs[0, 0].set(xticklabels=[], yticklabels=[], xticks=[], yticks=[], title='Image')\n",
    "    axs[0, 1].imshow(target)\n",
    "    axs[0, 1].set(xticklabels=[], yticklabels=[], xticks=[], yticks=[], title='Target')"
   ]
  },
  {
   "cell_type": "code",
   "execution_count": 5,
   "id": "25ca9f6e",
   "metadata": {},
   "outputs": [],
   "source": [
    "def uniform_downsample_image(image, down_scale = 8):\n",
    "    image_shape = image.shape\n",
    "    dim_0_indexes = torch.arange(0, image_shape[0], down_scale)\n",
    "    dim_1_indexes = torch.arange(0, image_shape[1], down_scale)\n",
    "    dim_2_indexes = torch.arange(0, image_shape[2], down_scale)\n",
    "    downsampled_image = image[dim_0_indexes,:,:]\n",
    "    downsampled_image = downsampled_image[:,dim_1_indexes,:]\n",
    "    downsampled_image = downsampled_image[:,:,dim_2_indexes]\n",
    "    return downsampled_image"
   ]
  },
  {
   "cell_type": "code",
   "execution_count": 6,
   "id": "8e187e03",
   "metadata": {},
   "outputs": [],
   "source": [
    "def visualize_segmented_image(segmented_image):\n",
    "#     segmented_image.squeeze()\n",
    "    if segmented_image.get_device() > -1: segmented_image = segmented_image.to('cpu')\n",
    "    classes = segmented_image.unique()\n",
    "    colors = [[128,128,128],[255,0,0],[255,255,0],[0,255,0],[0,255,255],[0,0,255],[255,0,255]]\n",
    "    vis = o3d.visualization.Visualizer()\n",
    "    vis.create_window()\n",
    "    for _class in classes[1:]:\n",
    "        points_numpy = (segmented_image == _class).nonzero().numpy()\n",
    "        o3d_point_cloud = o3d.geometry.PointCloud()\n",
    "        o3d_point_cloud.points = o3d.utility.Vector3dVector(points_numpy)\n",
    "        o3d_point_cloud.estimate_normals()\n",
    "        o3d_point_cloud.paint_uniform_color(np.array(colors[int(_class)-1])/255)\n",
    "        vis.add_geometry(o3d_point_cloud)\n",
    "    vis.run()\n",
    "    vis.destroy_window()"
   ]
  },
  {
   "cell_type": "code",
   "execution_count": 7,
   "id": "c45f28c1",
   "metadata": {},
   "outputs": [],
   "source": [
    "def get_bounding_boxes(segmented_image):\n",
    "    if segmented_image.get_device() > -1: segmented_image = segmented_image.to('cpu')\n",
    "    classes = segmented_image.unique()\n",
    "    bb_list = []\n",
    "    for class_ in classes: \n",
    "        points = (segmented_image == 1).nonzero()\n",
    "        x_min, x_max = points[:,0].min(), points[:,0].max()\n",
    "        y_min, y_max = points[:,1].min(), points[:,1].max()\n",
    "        z_min, z_max = points[:,2].min(), points[:,2].max()\n",
    "        bb = torch.tensor([(x_max-x_min)/2, (y_max-y_min)/2, (z_max-z_min)/2, x_max-x_min, y_max-y_min, z_max-z_min])\n",
    "        bb[0::2] = bb[0::2]/torch.tensor(segmented_image.shape)\n",
    "        bb[1::2] = bb[1::2]/torch.tensor(segmented_image.shape)\n",
    "        bb_list.append(bb)\n",
    "    bbs = torch.stack(bb_list)\n",
    "    return bbs"
   ]
  },
  {
   "cell_type": "code",
   "execution_count": 8,
   "id": "9cc5678f",
   "metadata": {},
   "outputs": [],
   "source": [
    "def get_masks(segmented_image):\n",
    "    if segmented_image.get_device() > -1: segmented_image = segmented_image.to('cpu')\n",
    "    classes = segmented_image.unique()\n",
    "    masks_list = []\n",
    "    for class_ in classes:\n",
    "        mask = segmented_image.clone()\n",
    "        mask[segmented_image == class_] = 1\n",
    "        mask[segmented_image != class_] = 0\n",
    "        masks_list.append(mask.short())\n",
    "    masks = torch.stack(masks_list)\n",
    "    return masks"
   ]
  },
  {
   "cell_type": "code",
   "execution_count": 9,
   "id": "4dd321e1",
   "metadata": {},
   "outputs": [],
   "source": [
    "def get_labels(segmented_image):\n",
    "    return segmented_image.unique().long()"
   ]
  },
  {
   "cell_type": "code",
   "execution_count": 10,
   "id": "8630212f",
   "metadata": {},
   "outputs": [],
   "source": [
    "def create_target_dict(segmented_image):\n",
    "    labels = get_labels(segmented_image)\n",
    "    boxes = get_bounding_boxes(segmented_image)\n",
    "    masks = get_masks(segmented_image)\n",
    "    target_dict = {'labels': labels, 'boxes': boxes, 'masks': masks, 'seg_im': segmented_image}\n",
    "    return target_dict"
   ]
  },
  {
   "cell_type": "code",
   "execution_count": 11,
   "id": "a2a26b08",
   "metadata": {},
   "outputs": [],
   "source": [
    "def compute_panoptic_quality(pred_seg, target):\n",
    "    ious = []\n",
    "    for label in target['labels'][1:]:\n",
    "        target_mask = target['masks'][label] \n",
    "        pred_mask = (pred_seg == label).int()\n",
    "        pred_mask[pred_mask == 0] = -1\n",
    "        intersection = (pred_mask == target_mask).count_nonzero()\n",
    "        union = pred_mask[pred_mask == 1].count_nonzero() + target_mask[target_mask == 1].count_nonzero() - intersection\n",
    "        iou = intersection/union\n",
    "        ious.append(iou)\n",
    "    ious_tensor = torch.tensor(ious)\n",
    "    tp = abs((ious_tensor > 0.5).count_nonzero())\n",
    "    fn = abs(len(target['labels']) - 1 - tp)\n",
    "    fp = abs(len(pred_seg.unique()) - 1 - tp)\n",
    "    if tp > 0:\n",
    "        sq = ious_tensor[ious_tensor > 0.5].sum() / tp\n",
    "        rq = rq = tp / (tp + fp/2 + fn/2)\n",
    "        pq = sq*rq\n",
    "    else:\n",
    "        sq = 0\n",
    "        rq = 0\n",
    "        pq = 0\n",
    "    return pq, sq, rq"
   ]
  },
  {
   "cell_type": "code",
   "execution_count": 12,
   "id": "a11d132b",
   "metadata": {},
   "outputs": [],
   "source": [
    "class DatasetForSegmentation(Dataset):\n",
    "    \n",
    "    def __init__(self, image_paths, target_paths, down_scale=8):\n",
    "        self.image_paths = image_paths\n",
    "        self.target_paths = target_paths\n",
    "        self.down_scale = down_scale\n",
    "    \n",
    "    def __len__(self):\n",
    "        return len(self.image_paths)\n",
    "    \n",
    "    def __getitem__(self, i):\n",
    "        image_np_array = nib.load(self.image_paths[i]).get_fdata()\n",
    "        image_torch_tensor = torch.from_numpy(image_np_array).float()\n",
    "        downsampled_image = uniform_downsample_image(image_torch_tensor, down_scale=self.down_scale)\n",
    "        target_np_array = nib.load(self.target_paths[i]).get_fdata()\n",
    "        target_torch_tensor = torch.from_numpy(target_np_array)\n",
    "        target_torch_tensor[target_torch_tensor > 7] = 0\n",
    "        downsampled_target = uniform_downsample_image(target_torch_tensor, down_scale=self.down_scale)\n",
    "        target_dict = create_target_dict(downsampled_target)\n",
    "        return downsampled_image, target_dict"
   ]
  },
  {
   "cell_type": "code",
   "execution_count": 13,
   "id": "06485547",
   "metadata": {},
   "outputs": [],
   "source": [
    "device = torch.device(\"cuda:0\" if torch.cuda.is_available() else \"cpu\")\n",
    "# device = torch.device(\"cpu\")"
   ]
  },
  {
   "cell_type": "code",
   "execution_count": 14,
   "id": "864b4668",
   "metadata": {},
   "outputs": [],
   "source": [
    "path = '/home/francisco/workspace/ImageCHD_dataset'"
   ]
  },
  {
   "cell_type": "code",
   "execution_count": 15,
   "id": "fd529519",
   "metadata": {},
   "outputs": [],
   "source": [
    "image_paths = glob(f'{path}/*image.nii.gz',recursive=True)\n",
    "target_paths = glob(f'{path}/*label.nii.gz',recursive=True)"
   ]
  },
  {
   "cell_type": "code",
   "execution_count": 16,
   "id": "9b202a56",
   "metadata": {},
   "outputs": [],
   "source": [
    "image_paths.sort(key=sort_func)\n",
    "target_paths.sort(key=sort_func)"
   ]
  },
  {
   "cell_type": "code",
   "execution_count": 17,
   "id": "da2874c8",
   "metadata": {
    "scrolled": true
   },
   "outputs": [],
   "source": [
    "detr_seg = detr_resnet3d_panoptic()\n",
    "# detr_seg.eval();\n",
    "# detr_seg.half();\n",
    "detr_seg.to(device);"
   ]
  },
  {
   "cell_type": "code",
   "execution_count": 18,
   "id": "e9c0ac49",
   "metadata": {
    "scrolled": true
   },
   "outputs": [],
   "source": [
    "# outputs = detr_seg(image_reshaped)"
   ]
  },
  {
   "cell_type": "code",
   "execution_count": 19,
   "id": "8f5ba723",
   "metadata": {},
   "outputs": [],
   "source": [
    "matcher = HungarianMatcher()\n",
    "loss_segmentation = LossSegmentation(matcher)"
   ]
  },
  {
   "cell_type": "code",
   "execution_count": 20,
   "id": "45091a96",
   "metadata": {},
   "outputs": [],
   "source": [
    "is_thing_map = {'0': False, '1': True, '2': True, '3': True, '4': True, '5': True, '6': True, '7': True}\n",
    "post_process_panoptic = PostProcessPanoptic(is_thing_map)"
   ]
  },
  {
   "cell_type": "code",
   "execution_count": 21,
   "id": "aceabccf",
   "metadata": {},
   "outputs": [],
   "source": [
    "lr = 0.0001\n",
    "n_epoch = 1\n",
    "weight_decay = 10e-4\n",
    "ACC_Threshold = 0.02"
   ]
  },
  {
   "cell_type": "code",
   "execution_count": 22,
   "id": "70c4c8b1",
   "metadata": {},
   "outputs": [],
   "source": [
    "optimizer = optim.AdamW(detr_seg.parameters(), lr=lr, weight_decay=weight_decay)"
   ]
  },
  {
   "cell_type": "code",
   "execution_count": null,
   "id": "b17e0b6a",
   "metadata": {
    "scrolled": true
   },
   "outputs": [
    {
     "name": "stdout",
     "output_type": "stream",
     "text": [
      "Epoch: 1/1\n"
     ]
    },
    {
     "name": "stderr",
     "output_type": "stream",
     "text": [
      "/home/francisco/workspace/CHD_Classifier_by_Francisco_Lourenço/models/position_encoding.py:84: UserWarning: __floordiv__ is deprecated, and its behavior will change in a future version of pytorch. It currently rounds toward 0 (like the 'trunc' function NOT 'floor'). This results in incorrect rounding for negative values. To keep the current behavior, use torch.div(a, b, rounding_mode='trunc'), or for actual floor division, use torch.div(a, b, rounding_mode='floor').\n",
      "  dim_t = self.temperature ** (2 * (dim_t // 2) / self.num_pos_feats)\n"
     ]
    },
    {
     "name": "stdout",
     "output_type": "stream",
     "text": [
      " 40/108 [====>...........] - ETA: 1:39 - Train Loss: 0.0536"
     ]
    }
   ],
   "source": [
    "torch.autograd.set_detect_anomaly(True)\n",
    "train_dset_size = 87\n",
    "down_scale = 10\n",
    "\n",
    "valid_dset = DatasetForSegmentation(image_paths[train_dset_size:],target_paths[train_dset_size:], down_scale=down_scale)\n",
    "for epoch in range(n_epoch):\n",
    "    kbar = pkbar.Kbar(target=(train_dset_size+len(valid_dset)-2), epoch=epoch, num_epochs=n_epoch, width=16, stateful_metrics=[\"Accuracy\"])\n",
    "    running_loss_t = 0.0\n",
    "    running_loss_v = 0.0\n",
    "    rdm = torch.randperm(train_dset_size)\n",
    "    train_image_paths = [image_paths[i] for i in rdm]\n",
    "    train_target_paths = [target_paths[i] for i in rdm]\n",
    "    train_ds = DatasetForSegmentation(train_image_paths, train_target_paths, down_scale=down_scale)\n",
    "\n",
    "    for idx, b in enumerate(train_ds):\n",
    "        image = b[0]#.half()\n",
    "        image = image.unsqueeze(0).unsqueeze(0).to(device)\n",
    "        target = b[1]\n",
    "        for i in target.items():\n",
    "#             if i[0] in {'boxes'}:\n",
    "#                 target[i[0]] = i[1].half()\n",
    "            target[i[0]] = i[1].to(device)\n",
    "            \n",
    "        outputs = detr_seg(image)\n",
    "        optimizer.zero_grad()\n",
    "        \n",
    "        loss = loss_segmentation.loss_masks(outputs, [target])\n",
    "        loss['loss_mask'].backward()\n",
    "        optimizer.step()\n",
    "        running_loss_t = loss['loss_mask'].item()\n",
    "        kbar.update(idx, values=[(\"Train Loss\", running_loss_t)])\n",
    "\n",
    "    kbar.add(1, values=[(\"Validation Loss\", 0), (\"Accuracy\", 0)])        \n",
    "    with torch.no_grad():\n",
    "        acc = 0\n",
    "        for ids,b in enumerate(valid_dset):\n",
    "            image = b[0].unsqueeze(0).unsqueeze(0).to(device)\n",
    "            target = b[1]\n",
    "            for i in target.items():\n",
    "                target[i[0]] = i[1].to(device)\n",
    "\n",
    "            outputs = detr_seg(image)\n",
    "            loss = loss_segmentation.loss_masks(outputs, [target])\n",
    "            running_loss_v = loss['loss_mask'].item()\n",
    "            pred_seg = post_process_panoptic(outputs,[tuple(torch.tensor(b[0].shape).tolist())]).to(device)\n",
    "            pq,sq,rq = compute_panoptic_quality(pred_seg, target)\n",
    "            kbar.update(idx+ids, values=[(\"Validation Loss\", running_loss_v), (\"PQ\", 100*pq),(\"SQ\", 100*sq),(\"RQ\", 100*rq)])\n",
    "print('Finished Training')"
   ]
  },
  {
   "cell_type": "markdown",
   "id": "bb3dcfad",
   "metadata": {},
   "source": [
    "***"
   ]
  },
  {
   "cell_type": "markdown",
   "id": "5b97e3bd",
   "metadata": {},
   "source": [
    "# Visualization:"
   ]
  },
  {
   "cell_type": "code",
   "execution_count": 33,
   "id": "362d1207",
   "metadata": {},
   "outputs": [],
   "source": [
    "is_thing_map = {'0': False, '1': True, '2': True, '3': True, '4': True, '5': True, '6': True, '7': True}"
   ]
  },
  {
   "cell_type": "code",
   "execution_count": 34,
   "id": "4676c1c7",
   "metadata": {},
   "outputs": [],
   "source": [
    "post_process_panoptic = PostProcessPanoptic(is_thing_map)"
   ]
  },
  {
   "cell_type": "code",
   "execution_count": 36,
   "id": "b528de31",
   "metadata": {},
   "outputs": [],
   "source": [
    "result = post_process_panoptic(outputs,[tuple(torch.tensor(image.squeeze().shape).tolist())])"
   ]
  },
  {
   "cell_type": "code",
   "execution_count": 37,
   "id": "560c90ed",
   "metadata": {},
   "outputs": [],
   "source": [
    "visualize_segmented_image(result)"
   ]
  }
 ],
 "metadata": {
  "kernelspec": {
   "display_name": "Python 3 (ipykernel)",
   "language": "python",
   "name": "python3"
  },
  "language_info": {
   "codemirror_mode": {
    "name": "ipython",
    "version": 3
   },
   "file_extension": ".py",
   "mimetype": "text/x-python",
   "name": "python",
   "nbconvert_exporter": "python",
   "pygments_lexer": "ipython3",
   "version": "3.9.13"
  }
 },
 "nbformat": 4,
 "nbformat_minor": 5
}
