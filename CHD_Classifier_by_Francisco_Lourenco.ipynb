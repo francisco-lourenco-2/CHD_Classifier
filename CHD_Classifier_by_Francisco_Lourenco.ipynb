{
 "cells": [
  {
   "cell_type": "code",
   "execution_count": 1,
   "id": "e7a98f73",
   "metadata": {},
   "outputs": [],
   "source": [
    "import numpy as np\n",
    "import nibabel as nib\n",
    "from glob import glob\n",
    "import matplotlib.pyplot as plt\n",
    "import torch\n",
    "from torch import nn\n",
    "from torch.utils.data import DataLoader\n",
    "from torch.utils.data import Dataset\n",
    "from torchvision import datasets\n",
    "from models.detr import DETR\n",
    "from models.segmentation import DETRsegm\n",
    "from hubconf import detr_resnet101_panoptic"
   ]
  },
  {
   "cell_type": "code",
   "execution_count": 2,
   "id": "eb55ca05",
   "metadata": {},
   "outputs": [],
   "source": [
    "# class DETRsegm_3D(nn.Module):\n",
    "#     def __init__(self):\n",
    "#         detr = detr_resnet101_panoptic()\n",
    "#         conv"
   ]
  },
  {
   "cell_type": "code",
   "execution_count": 3,
   "id": "5dc7d8b8",
   "metadata": {},
   "outputs": [],
   "source": [
    "def sort_func(path):\n",
    "    path_id = int(path.split('/')[-1].split('_')[1])\n",
    "    return path_id"
   ]
  },
  {
   "cell_type": "code",
   "execution_count": 4,
   "id": "d1a4badb",
   "metadata": {},
   "outputs": [],
   "source": [
    "def show_image_and_label(image, label):\n",
    "    fig, axs = plt.subplots(nrows=1,ncols=2, squeeze=False,figsize=(12, 12))\n",
    "    axs[0, 0].imshow(image)\n",
    "    axs[0, 0].set(xticklabels=[], yticklabels=[], xticks=[], yticks=[], title='Image')\n",
    "    axs[0, 1].imshow(label)\n",
    "    axs[0, 1].set(xticklabels=[], yticklabels=[], xticks=[], yticks=[], title='Label')"
   ]
  },
  {
   "cell_type": "code",
   "execution_count": 5,
   "id": "dd9f6ac6",
   "metadata": {},
   "outputs": [],
   "source": [
    "class DatasetForSegmentation(Dataset):\n",
    "    \n",
    "    def __init__(self, image_paths, label_paths):\n",
    "        self.image_paths = image_paths\n",
    "        self.label_paths = label_paths\n",
    "    \n",
    "    def __len__(self):\n",
    "        return len(self.image_paths)\n",
    "    \n",
    "    def __getitem__(self, i):\n",
    "        image_np_array = nib.load(image_paths[i]).get_fdata()\n",
    "        image_torch_tensor = torch.from_numpy(image_np_array)\n",
    "        label_np_array = nib.load(image_paths[i]).get_fdata()\n",
    "        label_torch_tensor = torch.from_numpy(label_np_array)\n",
    "        return image_torch_tensor, label_np_array"
   ]
  },
  {
   "cell_type": "code",
   "execution_count": 6,
   "id": "864b4668",
   "metadata": {},
   "outputs": [],
   "source": [
    "path = '/home/francisco/workspace/ImageCHD_dataset'"
   ]
  },
  {
   "cell_type": "code",
   "execution_count": 7,
   "id": "fd529519",
   "metadata": {},
   "outputs": [],
   "source": [
    "image_paths = glob(f'{path}/*image.nii.gz',recursive=True)\n",
    "label_paths = glob(f'{path}/*label.nii.gz',recursive=True)"
   ]
  },
  {
   "cell_type": "code",
   "execution_count": 8,
   "id": "9b202a56",
   "metadata": {},
   "outputs": [],
   "source": [
    "image_paths.sort(key=sort_func)\n",
    "label_paths.sort(key=sort_func)"
   ]
  },
  {
   "cell_type": "code",
   "execution_count": 9,
   "id": "a76fc25b",
   "metadata": {},
   "outputs": [],
   "source": [
    "dset = DatasetForSegmentation(image_paths,label_paths)"
   ]
  },
  {
   "cell_type": "code",
   "execution_count": 10,
   "id": "f118759f",
   "metadata": {},
   "outputs": [],
   "source": [
    "inpt, outp = dset[0]"
   ]
  },
  {
   "cell_type": "code",
   "execution_count": 27,
   "id": "aadc0ce7",
   "metadata": {},
   "outputs": [],
   "source": [
    "inpt_right_shape = inpt.transpose(2,0).unsqueeze(0).unsqueeze(0).float()"
   ]
  },
  {
   "cell_type": "code",
   "execution_count": 28,
   "id": "338e8688",
   "metadata": {},
   "outputs": [],
   "source": [
    "cv_3d = torch.nn.Conv3d(1,1,9)"
   ]
  },
  {
   "cell_type": "code",
   "execution_count": 30,
   "id": "85694e27",
   "metadata": {},
   "outputs": [],
   "source": [
    "result = cv_3d(inpt_right_shape[:,:,:9])"
   ]
  },
  {
   "cell_type": "code",
   "execution_count": 32,
   "id": "e4699e9d",
   "metadata": {},
   "outputs": [
    {
     "data": {
      "text/plain": [
       "(torch.Size([1, 1, 221, 512, 512]), torch.Size([1, 1, 1, 504, 504]))"
      ]
     },
     "execution_count": 32,
     "metadata": {},
     "output_type": "execute_result"
    }
   ],
   "source": [
    "inpt_right_shape.shape,result.shape"
   ]
  },
  {
   "cell_type": "code",
   "execution_count": 21,
   "id": "09bc8ff7",
   "metadata": {},
   "outputs": [
    {
     "name": "stderr",
     "output_type": "stream",
     "text": [
      "/home/francisco/anaconda3/envs/PyTorch/lib/python3.9/site-packages/torchvision/models/_utils.py:208: UserWarning: The parameter 'pretrained' is deprecated since 0.13 and will be removed in 0.15, please use 'weights' instead.\n",
      "  warnings.warn(\n",
      "/home/francisco/anaconda3/envs/PyTorch/lib/python3.9/site-packages/torchvision/models/_utils.py:223: UserWarning: Arguments other than a weight enum or `None` for 'weights' are deprecated since 0.13 and will be removed in 0.15. The current behavior is equivalent to passing `weights=ResNet101_Weights.IMAGENET1K_V1`. You can also use `weights=ResNet101_Weights.DEFAULT` to get the most up-to-date weights.\n",
      "  warnings.warn(msg)\n"
     ]
    }
   ],
   "source": [
    "detr = detr_resnet101_panoptic()"
   ]
  }
 ],
 "metadata": {
  "kernelspec": {
   "display_name": "Python 3 (ipykernel)",
   "language": "python",
   "name": "python3"
  },
  "language_info": {
   "codemirror_mode": {
    "name": "ipython",
    "version": 3
   },
   "file_extension": ".py",
   "mimetype": "text/x-python",
   "name": "python",
   "nbconvert_exporter": "python",
   "pygments_lexer": "ipython3",
   "version": "3.9.13"
  }
 },
 "nbformat": 4,
 "nbformat_minor": 5
}
